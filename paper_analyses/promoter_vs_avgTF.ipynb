{
 "cells": [
  {
   "cell_type": "code",
   "execution_count": 1,
   "id": "e71c45f4",
   "metadata": {},
   "outputs": [],
   "source": [
    "import pandas as pd\n",
    "import numpy as np\n",
    "from matplotlib import pyplot as plt\n",
    "import seaborn as sns\n",
    "from matplotlib import pylab\n",
    "import seaborn as sns\n",
    "import os\n",
    "from os import path\n",
    "from scipy.stats import pearsonr, spearmanr, chi2_contingency\n",
    "from scipy.cluster.hierarchy import fcluster, fclusterdata, linkage, dendrogram \n",
    "import matplotlib.patches as patches\n",
    "from copy import deepcopy\n",
    "import pickle\n",
    "from scipy.optimize import curve_fit\n",
    "from sklearn.metrics import r2_score\n",
    "\n",
    "# common formatting\n",
    "plt.style.use('../synthetic-enhancer-footprinting.mplstyle')\n",
    "\n",
    "import sys  \n",
    "sys.path.insert(0, '/oak/stanford/groups/wjg/bgrd/papers/synthetic_enhancer_footprinting/code/amplicon-smf/workflow/scripts')\n",
    "\n",
    "import common\n",
    "\n",
    "import importlib\n",
    "importlib.reload(common)\n",
    "%matplotlib inline\n",
    "\n",
    "import matplotlib.font_manager\n",
    "\n",
    "flow_head = '/oak/stanford/groups/wjg/jschaepe/projects/smf/synthetic-enhancer-footprinting-flow-data/'\n",
    "flow_df_head = flow_head + 'flow_dfs/'\n",
    "thresh_head = flow_head + 'flow_dfs/Citrine_thresh/'\n",
    "output_head = '/oak/stanford/groups/wjg/jschaepe/projects/smf/synthetic-enhancer-footprinting-outputs/'\n",
    "smf_table = '/oak/stanford/groups/wjg/bgrd/papers/synthetic_enhancer_footprinting/data/all_smf_experiments_aggregator/231108_all_smf_experiments.txt'\n",
    "\n",
    "opJS4 = ['opJS4_0x_TetO_21bp_no_CG','opJS4_1x_TetO_21bp_no_CG','opJS4_2x_TetO_21bp_no_CG','opJS4_3x_TetO_21bp_no_CG','opJS4_4x_TetO_21bp_no_CG',\n",
    "         'opJS4_5x_TetO_21bp_no_CG', 'opJS4_6x_TetO_21bp_no_CG','opJS4_7x_TetO_21bp_no_CG','opJS4_8x_TetO_21bp_no_CG']\n",
    "\n",
    "opJS5 = ['opJS5_0xTetO_18bp_b1',\n",
    " 'opJS5_0xTetO_18bp_b2',\n",
    " 'opJS5_1xTetO_18bp_b1',\n",
    " 'opJS5_1xTetO_18bp_b2',\n",
    " 'opJS5_2xTetO_18bp_b1',\n",
    " 'opJS5_2xTetO_18bp_b2',\n",
    " 'opJS5_3xTetO_18bp_b1',\n",
    " 'opJS5_3xTetO_18bp_b2',\n",
    " 'opJS5_4xTetO_18bp_b1',\n",
    " 'opJS5_4xTetO_18bp_b2',\n",
    " 'opJS5_5xTetO_18bp_b1',\n",
    " 'opJS5_5xTetO_18bp_b2',\n",
    " 'opJS5_6xTetO_18bp_b1',\n",
    " 'opJS5_6xTetO_18bp_b2',\n",
    " 'opJS5_7xTetO_18bp_b1',\n",
    " 'opJS5_7xTetO_18bp_b2',\n",
    " 'opJS5_8xTetO_18bp_b1',\n",
    " 'opJS5_8xTetO_18bp_b2',\n",
    " 'opJS5_9xTetO_18bp_b1',\n",
    " 'opJS5_9xTetO_18bp_b2']\n",
    "\n",
    "TFBS_map = {'opJS4_0x_TetO_21bp_no_CG':0,'opJS4_1x_TetO_21bp_no_CG':1,'opJS4_2x_TetO_21bp_no_CG':2,'opJS4_3x_TetO_21bp_no_CG':3,'opJS4_4x_TetO_21bp_no_CG':4,\n",
    "         'opJS4_5x_TetO_21bp_no_CG':5, 'opJS4_6x_TetO_21bp_no_CG':6,'opJS4_7x_TetO_21bp_no_CG':7,'opJS4_8x_TetO_21bp_no_CG':8,\n",
    "           'opJS5_0xTetO_18bp_b1':0,\n",
    " 'opJS5_0xTetO_18bp_b2':0,\n",
    " 'opJS5_1xTetO_18bp_b1':1,\n",
    " 'opJS5_1xTetO_18bp_b2':1,\n",
    " 'opJS5_2xTetO_18bp_b1':2,\n",
    " 'opJS5_2xTetO_18bp_b2':2,\n",
    " 'opJS5_3xTetO_18bp_b1':3,\n",
    " 'opJS5_3xTetO_18bp_b2':3,\n",
    " 'opJS5_4xTetO_18bp_b1':4,\n",
    " 'opJS5_4xTetO_18bp_b2':4,\n",
    " 'opJS5_5xTetO_18bp_b1':5,\n",
    " 'opJS5_5xTetO_18bp_b2':5,\n",
    " 'opJS5_6xTetO_18bp_b1':6,\n",
    " 'opJS5_6xTetO_18bp_b2':6,\n",
    " 'opJS5_7xTetO_18bp_b1':7,\n",
    " 'opJS5_7xTetO_18bp_b2':7,\n",
    " 'opJS5_8xTetO_18bp_b1':8,\n",
    " 'opJS5_8xTetO_18bp_b2':8,\n",
    " 'opJS5_9xTetO_18bp_b1':9,\n",
    " 'opJS5_9xTetO_18bp_b2':9}\n",
    "\n",
    "background_map = {'opJS4_0x_TetO_21bp_no_CG':0,'opJS4_1x_TetO_21bp_no_CG':0,'opJS4_2x_TetO_21bp_no_CG':0,'opJS4_3x_TetO_21bp_no_CG':0,'opJS4_4x_TetO_21bp_no_CG':0,\n",
    "         'opJS4_5x_TetO_21bp_no_CG':0, 'opJS4_6x_TetO_21bp_no_CG':0,'opJS4_7x_TetO_21bp_no_CG':0,'opJS4_8x_TetO_21bp_no_CG':0,\n",
    "           'opJS5_0xTetO_18bp_b1':1,\n",
    " 'opJS5_0xTetO_18bp_b2':2,\n",
    " 'opJS5_1xTetO_18bp_b1':1,\n",
    " 'opJS5_1xTetO_18bp_b2':2,\n",
    " 'opJS5_2xTetO_18bp_b1':1,\n",
    " 'opJS5_2xTetO_18bp_b2':2,\n",
    " 'opJS5_3xTetO_18bp_b1':1,\n",
    " 'opJS5_3xTetO_18bp_b2':2,\n",
    " 'opJS5_4xTetO_18bp_b1':1,\n",
    " 'opJS5_4xTetO_18bp_b2':2,\n",
    " 'opJS5_5xTetO_18bp_b1':1,\n",
    " 'opJS5_5xTetO_18bp_b2':2,\n",
    " 'opJS5_6xTetO_18bp_b1':1,\n",
    " 'opJS5_6xTetO_18bp_b2':2,\n",
    " 'opJS5_7xTetO_18bp_b1':1,\n",
    " 'opJS5_7xTetO_18bp_b2':2,\n",
    " 'opJS5_8xTetO_18bp_b1':1,\n",
    " 'opJS5_8xTetO_18bp_b2':2,\n",
    " 'opJS5_9xTetO_18bp_b1':1,\n",
    " 'opJS5_9xTetO_18bp_b2':2}\n",
    "\n",
    "fontsize=8\n",
    "markersize=20\n",
    "legend_fontsize = 6\n",
    "tick_fontsize=6"
   ]
  },
  {
   "cell_type": "code",
   "execution_count": 64,
   "id": "04b491fe",
   "metadata": {},
   "outputs": [],
   "source": [
    "# reading in dataframes\n",
    "summary_df = pd.read_table(smf_table)\n",
    "summary_df['TFBS'] = summary_df['amplicon'].map(TFBS_map)\n",
    "summary_df['background'] = summary_df['amplicon'].map(background_map)"
   ]
  },
  {
   "cell_type": "code",
   "execution_count": 67,
   "id": "87507901",
   "metadata": {},
   "outputs": [
    {
     "name": "stderr",
     "output_type": "stream",
     "text": [
      "<ipython-input-67-252f3061f1d1>:3: UserWarning: Boolean Series key will be reindexed to match DataFrame index.\n",
      "  smf_df = summary_df[summary_df['amplicon'].isin(amplicons)][\n"
     ]
    }
   ],
   "source": [
    "# subsetting smf dataframe\n",
    "amplicons = opJS4 + opJS5\n",
    "smf_df = summary_df[summary_df['amplicon'].isin(amplicons)][\n",
    "                        summary_df['dox']==True][\n",
    "                        summary_df['dox_conc']==1000][\n",
    "                        summary_df['dox_time_min']==24*60][\n",
    "                        summary_df['drug'].isna()][\n",
    "                        summary_df['effector'].isna()][\n",
    "                        summary_df['pool']=='opJS45']\n",
    "df = smf_df"
   ]
  },
  {
   "cell_type": "code",
   "execution_count": 70,
   "id": "86464a3b",
   "metadata": {},
   "outputs": [
    {
     "name": "stderr",
     "output_type": "stream",
     "text": [
      "<ipython-input-70-1d295e5deb81>:4: RuntimeWarning: divide by zero encountered in divide\n",
      "  return 1/(1+1/((n_tf)*k_fast_r))\n"
     ]
    },
    {
     "data": {
      "text/plain": [
       "<matplotlib.legend.Legend at 0x7f6a66d26310>"
      ]
     },
     "execution_count": 70,
     "metadata": {},
     "output_type": "execute_result"
    },
    {
     "data": {
      "image/png": "[encoded data removed]",
      "text/plain": [
       "<Figure size 288x216 with 1 Axes>"
      ]
     },
     "metadata": {
      "needs_background": "light"
     },
     "output_type": "display_data"
    }
   ],
   "source": [
    "# all datapoints across experiments - shows that drug timecourse needs separate fit\n",
    "# plotting against the average \n",
    "def parallel(n_tf, k_fast_r):\n",
    "    return 1/(1+1/((n_tf)*k_fast_r))\n",
    "\n",
    "# fig, ax = plt.subplots(figsize=(4/2.5,3/2.5))\n",
    "fig, ax = plt.subplots(figsize=(4,3))\n",
    "\n",
    "background_colors = ['k','#525252','#969696']\n",
    "\n",
    "# sns.scatterplot(data = df, x = 'avg_tf_bound', y = 'promoter_active', hue='background', palette=background_colors,s = markersize, ax =ax, color='k')\n",
    "sns.scatterplot(data = df, x = 'avg_tf_bound', y = 'promoter_active', hue='experiment_name',s = markersize, ax =ax, color='k')\n",
    "\n",
    "ax.set_ylabel('Fraction promoters active', fontsize = fontsize)\n",
    "plt.tick_params(axis='both', labelsize=tick_fontsize)\n",
    "ax.set_xlabel('Average TF occupancy', fontsize = fontsize)\n",
    "ax.set_box_aspect(0.8)\n",
    "ax.spines['top'].set_visible(False)\n",
    "ax.spines['right'].set_visible(False)\n",
    "ax.set_facecolor('none')\n",
    "    \n",
    "x = np.linspace(0,max(df['avg_tf_bound']), 100)\n",
    "plt.plot(x, parallel(x, *popt), color='k', label='r2={}'.format(np.around(r2_score(df['promoter_active'], parallel(np.asarray(df['avg_tf_bound']),*popt)),2)))\n",
    "plt.legend(fontsize=legend_fontsize, markerscale=0.5, frameon=False, title='background', title_fontsize=legend_fontsize)\n",
    "# plt.savefig(output_head+'fig3_plots/MFI_vs_promoter_backgrounds.pdf', dpi=300)"
   ]
  },
  {
   "cell_type": "code",
   "execution_count": 73,
   "id": "4dc677f8",
   "metadata": {},
   "outputs": [
    {
     "name": "stderr",
     "output_type": "stream",
     "text": [
      "<ipython-input-73-f4712802ecbb>:3: UserWarning: Boolean Series key will be reindexed to match DataFrame index.\n",
      "  smf_df = summary_df[summary_df['amplicon'].isin(amplicons)][\n"
     ]
    }
   ],
   "source": [
    "# subsetting smf dataframe\n",
    "amplicons = opJS4 + opJS5\n",
    "smf_df = summary_df[summary_df['amplicon'].isin(amplicons)][\n",
    "                        summary_df['dox']==True][\n",
    "                        summary_df['dox_conc']==1000][\n",
    "                        summary_df['dox_time_min']==24*60][\n",
    "                        summary_df['drug'].isna()][\n",
    "                        summary_df['effector'].isna()][\n",
    "                        summary_df['pool']=='opJS45'][\n",
    "                        ~summary_df['experiment_name'].isin([ 'drug_timecourse'])]\n",
    "df = smf_df"
   ]
  },
  {
   "cell_type": "code",
   "execution_count": 77,
   "id": "e3f8c9e4",
   "metadata": {},
   "outputs": [
    {
     "name": "stderr",
     "output_type": "stream",
     "text": [
      "<ipython-input-77-b1337836d2a6>:4: RuntimeWarning: divide by zero encountered in divide\n",
      "  return 1/(1+1/((n_tf)*k_fast_r))\n"
     ]
    },
    {
     "data": {
      "image/png": "[encoded data removed]",
      "text/plain": [
       "<Figure size 115.2x86.4 with 1 Axes>"
      ]
     },
     "metadata": {
      "needs_background": "light"
     },
     "output_type": "display_data"
    }
   ],
   "source": [
    "# all datapoints subset of experiments\n",
    "# plotting against the average \n",
    "def parallel(n_tf, k_fast_r):\n",
    "    return 1/(1+1/((n_tf)*k_fast_r))\n",
    "\n",
    "fig, ax = plt.subplots(figsize=(4/2.5,3/2.5))\n",
    "\n",
    "background_colors = ['k','#525252','#969696']\n",
    "\n",
    "sns.scatterplot(data = df, x = 'avg_tf_bound', y = 'promoter_active', hue='background', palette=background_colors,s = markersize, ax =ax, color='k')\n",
    "# sns.scatterplot(data = df, x = 'avg_tf_bound', y = 'promoter_active', hue='experiment_name',s = markersize, ax =ax, color='k')\n",
    "\n",
    "ax.set_ylabel('Fraction promoters active', fontsize = fontsize)\n",
    "plt.tick_params(axis='both', labelsize=tick_fontsize)\n",
    "ax.set_xlabel('Average TF occupancy', fontsize = fontsize)\n",
    "ax.set_box_aspect(0.8)\n",
    "ax.spines['top'].set_visible(False)\n",
    "ax.spines['right'].set_visible(False)\n",
    "\n",
    "popt, pcov = curve_fit(parallel, df['avg_tf_bound'], df['promoter_active'])\n",
    "file_path = output_head + 'TF_to_promoter_params.txt'\n",
    "with open(file_path, 'w') as file:\n",
    "    # Write popt and pcov to file\n",
    "    file.write(str(popt))\n",
    "    file.write('\\n')\n",
    "    file.write(str(popt))\n",
    "    \n",
    "x = np.linspace(0,max(df['avg_tf_bound']), 100)\n",
    "plt.plot(x, parallel(x, *popt), color='k', label='r2={}'.format(np.around(r2_score(df['promoter_active'], parallel(np.asarray(df['avg_tf_bound']),*popt)),2)))\n",
    "plt.legend(fontsize=legend_fontsize, markerscale=0.5, frameon=False, title='background', title_fontsize=legend_fontsize)\n",
    "plt.savefig(output_head+'fig3_plots/promoter_vs_avgTF_backgrounds_subset.pdf', dpi=300)"
   ]
  },
  {
   "cell_type": "code",
   "execution_count": null,
   "id": "77175f99",
   "metadata": {},
   "outputs": [],
   "source": []
  }
 ],
 "metadata": {
  "kernelspec": {
   "display_name": "Python 3 (ipykernel)",
   "language": "python",
   "name": "python3"
  },
  "language_info": {
   "codemirror_mode": {
    "name": "ipython",
    "version": 3
   },
   "file_extension": ".py",
   "mimetype": "text/x-python",
   "name": "python",
   "nbconvert_exporter": "python",
   "pygments_lexer": "ipython3",
   "version": "3.8.3"
  }
 },
 "nbformat": 4,
 "nbformat_minor": 5
}
