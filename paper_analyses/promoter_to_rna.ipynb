{
 "cells": [
  {
   "cell_type": "code",
   "execution_count": 2,
   "id": "9f390072",
   "metadata": {},
   "outputs": [],
   "source": [
    "import pandas as pd\n",
    "import numpy as np\n",
    "from matplotlib import pyplot as plt\n",
    "import seaborn as sns\n",
    "from matplotlib import pylab\n",
    "import seaborn as sns\n",
    "import os\n",
    "from os import path\n",
    "from scipy.stats import pearsonr, spearmanr, chi2_contingency\n",
    "from scipy.cluster.hierarchy import fcluster, fclusterdata, linkage, dendrogram \n",
    "import matplotlib.patches as patches\n",
    "from copy import deepcopy\n",
    "import pickle\n",
    "from scipy.optimize import curve_fit\n",
    "from sklearn.metrics import r2_score\n",
    "from scipy.integrate import odeint\n",
    "\n",
    "\n",
    "# common formatting\n",
    "plt.style.use('../synthetic-enhancer-footprinting.mplstyle')\n",
    "\n",
    "import sys  \n",
    "sys.path.insert(0, '/oak/stanford/groups/wjg/bgrd/papers/synthetic_enhancer_footprinting/code/amplicon-smf/workflow/scripts')\n",
    "\n",
    "import common\n",
    "import ast\n",
    "import importlib\n",
    "importlib.reload(common)\n",
    "%matplotlib inline\n",
    "\n",
    "import matplotlib.font_manager\n",
    "import warnings\n",
    "warnings.filterwarnings(\"ignore\")\n",
    "\n",
    "flow_head = '/oak/stanford/groups/wjg/jschaepe/projects/smf/synthetic-enhancer-footprinting-data/'\n",
    "flow_df_head = flow_head + 'flow_dfs/'\n",
    "qpcr_head = '/oak/stanford/groups/wjg/bgrd/papers/synthetic_enhancer_footprinting/data/qpcr_data/'\n",
    "thresh_head = flow_head + 'flow_dfs/Citrine_thresh/'\n",
    "output_head = '/oak/stanford/groups/wjg/jschaepe/projects/smf/synthetic-enhancer-footprinting-outputs/'\n",
    "smf_table = '/oak/stanford/groups/wjg/bgrd/papers/synthetic_enhancer_footprinting/data/all_smf_experiments_aggregator/231108_all_smf_experiments.txt'\n",
    "\n",
    "opJS4 = ['opJS4_0x_TetO_21bp_no_CG','opJS4_1x_TetO_21bp_no_CG','opJS4_2x_TetO_21bp_no_CG','opJS4_3x_TetO_21bp_no_CG','opJS4_4x_TetO_21bp_no_CG',\n",
    "         'opJS4_5x_TetO_21bp_no_CG', 'opJS4_6x_TetO_21bp_no_CG','opJS4_7x_TetO_21bp_no_CG','opJS4_8x_TetO_21bp_no_CG']\n",
    "\n",
    "opJS5 = ['opJS5_0xTetO_18bp_b1',\n",
    " 'opJS5_0xTetO_18bp_b2',\n",
    " 'opJS5_1xTetO_18bp_b1',\n",
    " 'opJS5_1xTetO_18bp_b2',\n",
    " 'opJS5_2xTetO_18bp_b1',\n",
    " 'opJS5_2xTetO_18bp_b2',\n",
    " 'opJS5_3xTetO_18bp_b1',\n",
    " 'opJS5_3xTetO_18bp_b2',\n",
    " 'opJS5_4xTetO_18bp_b1',\n",
    " 'opJS5_4xTetO_18bp_b2',\n",
    " 'opJS5_5xTetO_18bp_b1',\n",
    " 'opJS5_5xTetO_18bp_b2',\n",
    " 'opJS5_6xTetO_18bp_b1',\n",
    " 'opJS5_6xTetO_18bp_b2',\n",
    " 'opJS5_7xTetO_18bp_b1',\n",
    " 'opJS5_7xTetO_18bp_b2',\n",
    " 'opJS5_8xTetO_18bp_b1',\n",
    " 'opJS5_8xTetO_18bp_b2',\n",
    " 'opJS5_9xTetO_18bp_b1',\n",
    " 'opJS5_9xTetO_18bp_b2']\n",
    "\n",
    "TFBS_map = {'opJS4_0x_TetO_21bp_no_CG':0,'opJS4_1x_TetO_21bp_no_CG':1,'opJS4_2x_TetO_21bp_no_CG':2,'opJS4_3x_TetO_21bp_no_CG':3,'opJS4_4x_TetO_21bp_no_CG':4,\n",
    "         'opJS4_5x_TetO_21bp_no_CG':5, 'opJS4_6x_TetO_21bp_no_CG':6,'opJS4_7x_TetO_21bp_no_CG':7,'opJS4_8x_TetO_21bp_no_CG':8,\n",
    "           'opJS5_0xTetO_18bp_b1':0,\n",
    " 'opJS5_0xTetO_18bp_b2':0,\n",
    " 'opJS5_1xTetO_18bp_b1':1,\n",
    " 'opJS5_1xTetO_18bp_b2':1,\n",
    " 'opJS5_2xTetO_18bp_b1':2,\n",
    " 'opJS5_2xTetO_18bp_b2':2,\n",
    " 'opJS5_3xTetO_18bp_b1':3,\n",
    " 'opJS5_3xTetO_18bp_b2':3,\n",
    " 'opJS5_4xTetO_18bp_b1':4,\n",
    " 'opJS5_4xTetO_18bp_b2':4,\n",
    " 'opJS5_5xTetO_18bp_b1':5,\n",
    " 'opJS5_5xTetO_18bp_b2':5,\n",
    " 'opJS5_6xTetO_18bp_b1':6,\n",
    " 'opJS5_6xTetO_18bp_b2':6,\n",
    " 'opJS5_7xTetO_18bp_b1':7,\n",
    " 'opJS5_7xTetO_18bp_b2':7,\n",
    " 'opJS5_8xTetO_18bp_b1':8,\n",
    " 'opJS5_8xTetO_18bp_b2':8,\n",
    " 'opJS5_9xTetO_18bp_b1':9,\n",
    " 'opJS5_9xTetO_18bp_b2':9}\n",
    "\n",
    "background_map = {'opJS4_0x_TetO_21bp_no_CG':0,'opJS4_1x_TetO_21bp_no_CG':0,'opJS4_2x_TetO_21bp_no_CG':0,'opJS4_3x_TetO_21bp_no_CG':0,'opJS4_4x_TetO_21bp_no_CG':0,\n",
    "         'opJS4_5x_TetO_21bp_no_CG':0, 'opJS4_6x_TetO_21bp_no_CG':0,'opJS4_7x_TetO_21bp_no_CG':0,'opJS4_8x_TetO_21bp_no_CG':0,\n",
    "           'opJS5_0xTetO_18bp_b1':1,\n",
    " 'opJS5_0xTetO_18bp_b2':2,\n",
    " 'opJS5_1xTetO_18bp_b1':1,\n",
    " 'opJS5_1xTetO_18bp_b2':2,\n",
    " 'opJS5_2xTetO_18bp_b1':1,\n",
    " 'opJS5_2xTetO_18bp_b2':2,\n",
    " 'opJS5_3xTetO_18bp_b1':1,\n",
    " 'opJS5_3xTetO_18bp_b2':2,\n",
    " 'opJS5_4xTetO_18bp_b1':1,\n",
    " 'opJS5_4xTetO_18bp_b2':2,\n",
    " 'opJS5_5xTetO_18bp_b1':1,\n",
    " 'opJS5_5xTetO_18bp_b2':2,\n",
    " 'opJS5_6xTetO_18bp_b1':1,\n",
    " 'opJS5_6xTetO_18bp_b2':2,\n",
    " 'opJS5_7xTetO_18bp_b1':1,\n",
    " 'opJS5_7xTetO_18bp_b2':2,\n",
    " 'opJS5_8xTetO_18bp_b1':1,\n",
    " 'opJS5_8xTetO_18bp_b2':2,\n",
    " 'opJS5_9xTetO_18bp_b1':1,\n",
    " 'opJS5_9xTetO_18bp_b2':2}\n",
    "\n",
    "fontsize=7\n",
    "markersize=20\n",
    "legend_fontsize = 6\n",
    "tick_fontsize=6"
   ]
  },
  {
   "cell_type": "code",
   "execution_count": 3,
   "id": "a10cd214",
   "metadata": {},
   "outputs": [],
   "source": [
    "# reading in dataframes\n",
    "summary_df = pd.read_table(smf_table)\n",
    "summary_df['TFBS'] = summary_df['amplicon'].map(TFBS_map)\n",
    "summary_df['background'] = summary_df['amplicon'].map(background_map)"
   ]
  },
  {
   "cell_type": "code",
   "execution_count": 4,
   "id": "b2d7ddc3",
   "metadata": {},
   "outputs": [],
   "source": [
    "# subsetting smf dataframe\n",
    "amplicons = opJS4 + opJS5\n",
    "smf_df = summary_df[summary_df['drug'].isna()][\n",
    "                        summary_df['effector'].isna()][\n",
    "                        summary_df['pool']=='opJS45'][\n",
    "                        summary_df['experiment_name']=='doxtimecourse'][\n",
    "                        summary_df['amplicon'].isin(opJS4)]\n",
    "df = smf_df\n",
    "df['dox_time_hr'] = df['dox_time_min'].fillna(0)/60"
   ]
  },
  {
   "cell_type": "code",
   "execution_count": 5,
   "id": "b8ff2322",
   "metadata": {},
   "outputs": [],
   "source": [
    "# normalizing binding to equilibrium value\n",
    "df = df.sort_values(by=['amplicon','biorep'])\n",
    "dfs = []\n",
    "for amplicon in df['amplicon'].unique():\n",
    "    for biorep in df['biorep'].unique():\n",
    "        df_sub = df[df['amplicon']==amplicon][df['biorep']==biorep]\n",
    "        equilibrium_val = df_sub[df_sub['dox_time_hr']==24]['avg_tf_bound'].to_numpy()[0]\n",
    "        df_sub['equilibrium_val']=equilibrium_val\n",
    "        df_sub['norm_avg_tf_bound']= df_sub['avg_tf_bound']/equilibrium_val\n",
    "        dfs.append(df_sub)\n",
    "df_norm = pd.concat(dfs)"
   ]
  },
  {
   "cell_type": "code",
   "execution_count": 6,
   "id": "1882a96c",
   "metadata": {},
   "outputs": [],
   "source": [
    "df_to_fit = df_norm[df_norm['dox_time_hr']>0]\n",
    "equilibrium_vals = df_to_fit.groupby('TFBS').mean('equilibrium_val')['equilibrium_val']"
   ]
  },
  {
   "cell_type": "code",
   "execution_count": 7,
   "id": "b7720136",
   "metadata": {},
   "outputs": [],
   "source": [
    "rna_df = pd.read_csv(qpcr_head+'231027_doxtimecourse_qpcr_edited.txt', sep='\\t')\n",
    "opJS4_map = {'0x':'opJS4_0x_TetO_21bp_no_CG','1x':'opJS4_1x_TetO_21bp_no_CG','2x':'opJS4_2x_TetO_21bp_no_CG','3x':'opJS4_3x_TetO_21bp_no_CG','4x':'opJS4_4x_TetO_21bp_no_CG',\n",
    "         '5x':'opJS4_5x_TetO_21bp_no_CG', '6x':'opJS4_6x_TetO_21bp_no_CG','7x':'opJS4_7x_TetO_21bp_no_CG','8x':'opJS4_8x_TetO_21bp_no_CG'}\n",
    "rna_df['amplicon'] = rna_df['Cell Line'].map(opJS4_map)"
   ]
  },
  {
   "cell_type": "code",
   "execution_count": 8,
   "id": "77784e4c",
   "metadata": {},
   "outputs": [
    {
     "name": "stdout",
     "output_type": "stream",
     "text": [
      "0.9\n"
     ]
    },
    {
     "name": "stderr",
     "output_type": "stream",
     "text": [
      "findfont: Font family ['sans-serif'] not found. Falling back to DejaVu Sans.\n",
      "findfont: Generic family 'sans-serif' not found because none of the following families were found: Arial\n",
      "findfont: Font family ['sans-serif'] not found. Falling back to DejaVu Sans.\n",
      "findfont: Generic family 'sans-serif' not found because none of the following families were found: Arial\n"
     ]
    },
    {
     "data": {
      "image/png": "[encoded data removed]",
      "text/plain": [
       "<Figure size 115.2x86.4 with 1 Axes>"
      ]
     },
     "metadata": {
      "needs_background": "light"
     },
     "output_type": "display_data"
    }
   ],
   "source": [
    "fig, ax = plt.subplots(figsize=(4/2.5,3/2.5))\n",
    "colors = ['#f7fcfd','#e5f5f9','#ccece6','#99d8c9','#66c2a4','#41ae76','#238b45','#006d2c','#00441b']\n",
    "\n",
    "def single_exp(t, t_constant, a): \n",
    "    return 1-a*np.exp(-(t*np.log(2)/t_constant))\n",
    "\n",
    "def dfracon_dt(prom, t, k_on, k_off, n_tfbs):\n",
    "    file_path = output_head + 'avgTF_single_exponential_popt.txt'\n",
    "    popt_tf = np.loadtxt(file_path)\n",
    "    avgTF = single_exp(t, *popt_tf)*equilibrium_vals[n_tfbs]\n",
    "    dpdt = k_on*(avgTF)*(1-(prom)) - k_off*(prom)\n",
    "    return dpdt\n",
    "\n",
    "def promoter_on_fit(t, k_on, k_off): \n",
    "    tspan = []\n",
    "    for time in np.unique(t):\n",
    "        tspan.append(time)\n",
    "        tspan.append(time)\n",
    "    sol = []\n",
    "    for n_tfbs in [1,2,3,4, 5, 6, 7, 8]:\n",
    "        sol.append(list(odeint(dfracon_dt, 0.02, tspan, args=(k_on, k_off, n_tfbs))))\n",
    "    sol = np.asarray(sol).flatten()\n",
    "    return sol\n",
    "\n",
    "def promoter_on_test(t, n_tfbs, k_on, k_off): \n",
    "    sol = []\n",
    "    sol.append(list(odeint(dfracon_dt, 0.02, t, args=(k_on, k_off, n_tfbs))))\n",
    "    sol = np.asarray(sol).flatten()\n",
    "    return sol\n",
    "    \n",
    "df_to_fit = df_norm[df_norm['TFBS']>0][df_norm['dox_time_hr']>0]\n",
    "sns.scatterplot(data = df_to_fit, x = 'dox_time_hr', y = 'promoter_active', hue='TFBS', palette=colors[1:], s = markersize, ax =ax, color='k')\n",
    "df_to_fit = df_to_fit.sort_values(by=['TFBS', 'dox_time_hr', 'biorep'],ascending=True).drop_duplicates()\n",
    "popt, pcov = curve_fit(promoter_on_fit, df_to_fit['dox_time_hr'], df_to_fit['promoter_active'], (0.05/60, 0.08/60), bounds=((0,0), (1, 1)), method='dogbox')\n",
    "file_path = output_head + 'promoter_on_fit_popt.txt'\n",
    "np.savetxt(file_path, popt, fmt='%s')\n",
    "file_path = output_head + 'promoter_on_fit_pcov.txt'\n",
    "np.savetxt(file_path, pcov, fmt='%s')\n",
    "r2 = np.around(r2_score(promoter_on_fit(df_to_fit['dox_time_hr'], *popt), df_to_fit['promoter_active']), 2)\n",
    "print(r2)\n",
    "for i, amplicon in enumerate(opJS4):\n",
    "    df_to_test = df_to_fit[df_to_fit['amplicon']==amplicon]\n",
    "    # r2 = np.around(r2_score(np.asarray(single_exp(df_to_test['dox_time_hr'], *popt))*equilibrium_vals[i], df_to_test['avg_tf_bound']), 2)\n",
    "    x = np.linspace(0,48,100) \n",
    "    plt.plot(x, promoter_on_test(x, i, *popt), color=colors[i],label=None)\n",
    "\n",
    "ax.set_ylabel('Fraction promoters active', fontsize = fontsize)\n",
    "plt.tick_params(axis='both', labelsize=tick_fontsize)\n",
    "ax.set_xlabel('Time (hr)', fontsize = fontsize)\n",
    "ax.set_box_aspect(0.8)\n",
    "ax.set_xticks([0,2,8,24,48])\n",
    "\n",
    "ax.spines['top'].set_visible(False)\n",
    "ax.spines['right'].set_visible(False)\n",
    "plt.legend(fontsize=legend_fontsize, markerscale=0.5, frameon=False, title='TFBS', title_fontsize=legend_fontsize, bbox_to_anchor=(1,1))\n",
    "plt.savefig(output_head+'fig5_plots/promoter_kinetics.pdf', dpi=300)"
   ]
  },
  {
   "cell_type": "code",
   "execution_count": 9,
   "id": "6bdb8e63",
   "metadata": {},
   "outputs": [],
   "source": [
    "popt_prom = popt"
   ]
  },
  {
   "cell_type": "code",
   "execution_count": 10,
   "id": "eb10b6b9",
   "metadata": {},
   "outputs": [
    {
     "name": "stdout",
     "output_type": "stream",
     "text": [
      "0.95\n"
     ]
    },
    {
     "data": {
      "image/png": "[encoded data removed]",
      "text/plain": [
       "<Figure size 115.2x86.4 with 1 Axes>"
      ]
     },
     "metadata": {
      "needs_background": "light"
     },
     "output_type": "display_data"
    }
   ],
   "source": [
    "fig, ax = plt.subplots(figsize=(4/2.5,3/2.5))\n",
    "colors = ['#f7fcfd','#e5f5f9','#ccece6','#99d8c9','#66c2a4','#41ae76','#238b45','k']\n",
    "\n",
    "def single_exp(t, t_constant, a): \n",
    "    return 1-a*np.exp(-(t*np.log(2)/t_constant))\n",
    "\n",
    "def drnafracon_dt(vals, t, k_trs, k_deg, n_tfbs):\n",
    "    prom, rna = vals\n",
    "    file_path = output_head + 'avgTF_single_exponential_popt.txt'\n",
    "    popt_tf = np.loadtxt(file_path)\n",
    "    avgTF = single_exp(t, *popt_tf)*equilibrium_vals[n_tfbs]\n",
    "    k_on, k_off = popt_prom\n",
    "    dpdt = k_on*(avgTF)*(1-(prom)) - k_off*(prom)\n",
    "    drdt = k_trs*prom - k_deg*rna\n",
    "    return [dpdt, drdt]\n",
    "\n",
    "def rna_on_fit(t, k_trs, k_deg): \n",
    "    tspan = []\n",
    "    for time in np.unique(t):\n",
    "        tspan.append(time)\n",
    "    sol = []\n",
    "    for n_tfbs in [1,2,3,4, 5, 6,7,8]:\n",
    "        sol.append(list(odeint(drnafracon_dt, [0.02,0], tspan, args=(k_trs, k_deg, n_tfbs))[:,1]))\n",
    "    sol = np.asarray(sol).flatten()\n",
    "    return sol\n",
    "\n",
    "def rna_on_test(t, n_tfbs, k_trs, k_deg): \n",
    "    sol = []\n",
    "    sol.append(list(odeint(drnafracon_dt, [0.02,0], t, args=(k_trs, k_deg, n_tfbs))[:,1]))\n",
    "    sol = np.asarray(sol).flatten()\n",
    "    return sol\n",
    "\n",
    "rna_df_to_plot = rna_df.groupby(['Time','Cell Line','amplicon'])['Expression (relative to GAPDH)'].mean().reset_index()\n",
    "rna_df_to_plot = rna_df_to_plot[rna_df_to_plot['Cell Line'].isin(['1x','2x','3x','4x','5x','6x','7x','8x'])]\n",
    "sns.scatterplot(data = rna_df_to_plot, x = 'Time', y = 'Expression (relative to GAPDH)', s = markersize, ax =ax, hue='Cell Line', palette=colors)\n",
    "# sns.lineplot(data = rna_df_to_plot, x = 'Time', y = 'Expression', ax =ax2, color='gray', hue='TFBS', palette=colors[1:])\n",
    "\n",
    "df_to_fit = rna_df_to_plot.sort_values(by=['Cell Line', 'Time'],ascending=True)\n",
    "popt, pcov = curve_fit(rna_on_fit, df_to_fit['Time'], df_to_fit['Expression (relative to GAPDH)'], p0=[1.67729023, 0.18804843], method='dogbox')\n",
    "r2 = np.around(r2_score(rna_on_fit(df_to_fit['Time'], *popt), df_to_fit['Expression (relative to GAPDH)']), 2)\n",
    "print(r2)\n",
    "for i, tfbs in enumerate([1,2,3,4,5,6,7,8]):\n",
    "    # r2 = np.around(r2_score(np.asarray(single_exp(df_to_test['dox_time_hr'], *popt))*equilibrium_vals[i], df_to_test['avg_tf_bound']), 2)\n",
    "    x = np.linspace(0,24,100) \n",
    "    plt.plot(x, rna_on_test(x, tfbs, *popt), color=colors[tfbs-1],label=None)\n",
    "\n",
    "ax.set_ylabel('Expression', fontsize = fontsize)\n",
    "plt.tick_params(axis='both', labelsize=tick_fontsize)\n",
    "ax.set_xlabel('Time (hr)', fontsize = fontsize)\n",
    "ax.set_box_aspect(0.8)\n",
    "# ax.set_xlim(0, 7)\n",
    "ax.spines['top'].set_visible(False)\n",
    "ax.spines['right'].set_visible(False)\n",
    "plt.legend(fontsize=legend_fontsize, markerscale=0.5, frameon=False, title='TFBS', title_fontsize=legend_fontsize, bbox_to_anchor=(1,1))\n",
    "plt.savefig(output_head + 'fig5_plots/rna_timecourse_fit_avg_techreps.pdf', dpi=300)"
   ]
  },
  {
   "cell_type": "code",
   "execution_count": 11,
   "id": "46a55a91",
   "metadata": {},
   "outputs": [],
   "source": [
    "rna_popt = popt"
   ]
  },
  {
   "cell_type": "code",
   "execution_count": 12,
   "id": "29ce6108",
   "metadata": {},
   "outputs": [
    {
     "name": "stdout",
     "output_type": "stream",
     "text": [
      "0.99\n"
     ]
    },
    {
     "data": {
      "image/png": "[encoded data removed]",
      "text/plain": [
       "<Figure size 115.2x86.4 with 1 Axes>"
      ]
     },
     "metadata": {
      "needs_background": "light"
     },
     "output_type": "display_data"
    }
   ],
   "source": [
    "fig, ax = plt.subplots(figsize=(4/2.5,3/2.5))\n",
    "colors = ['#f7fcfd','#e5f5f9','#ccece6','#99d8c9','#66c2a4','#41ae76','#238b45','k']\n",
    "\n",
    "def single_exp(t, t_constant, a): \n",
    "    return 1-a*np.exp(-(t*np.log(2)/t_constant))\n",
    "\n",
    "def drnafracon_dt(vals, t, k_trs, k_deg, thresh, n_tfbs):\n",
    "    prom, rna = vals\n",
    "    file_path = output_head + 'avgTF_single_exponential_popt.txt'\n",
    "    popt_tf = np.loadtxt(file_path)\n",
    "    avgTF = single_exp(t, *popt_tf)*equilibrium_vals[n_tfbs]\n",
    "    k_on, k_off = popt_prom\n",
    "    dpdt = k_on*(avgTF)*(1-(prom)) - k_off*(prom)\n",
    "    # thresh = 0.11665878\n",
    "    if (prom-thresh) < 0:\n",
    "        drdt = - k_deg*rna\n",
    "    else:\n",
    "        drdt = k_trs*(prom-thresh) - k_deg*rna\n",
    "    return [dpdt, drdt]\n",
    "\n",
    "def rna_on_fit(t, k_trs, k_deg, thresh): \n",
    "    tspan = []\n",
    "    for time in np.unique(t):\n",
    "        tspan.append(time)\n",
    "    sol = []\n",
    "    for n_tfbs in [1,2,3,4, 5, 6,7,8]:\n",
    "        sol.append(list(odeint(drnafracon_dt, [0.02,0], tspan, args=(k_trs, k_deg, thresh, n_tfbs))[:,1]))\n",
    "    sol = np.asarray(sol).flatten()\n",
    "    return sol\n",
    "\n",
    "def rna_on_test(t, n_tfbs, k_trs, k_deg, thresh): \n",
    "    sol = []\n",
    "    sol.append(list(odeint(drnafracon_dt, [0.02,0], t, args=(k_trs, k_deg, thresh, n_tfbs))[:,1]))\n",
    "    sol = np.asarray(sol).flatten()\n",
    "    return sol\n",
    "\n",
    "rna_df_to_plot = rna_df.groupby(['Time','Cell Line','amplicon'])['Expression (relative to GAPDH)'].mean().reset_index()\n",
    "rna_df_to_plot = rna_df_to_plot[rna_df_to_plot['Cell Line'].isin(['1x','2x','3x','4x','5x','6x','7x','8x'])]\n",
    "sns.scatterplot(data = rna_df_to_plot, x = 'Time', y = 'Expression (relative to GAPDH)', s = markersize, ax =ax, hue='Cell Line', palette=colors)\n",
    "# sns.lineplot(data = rna_df_to_plot, x = 'Time', y = 'Expression', ax =ax2, color='gray', hue='TFBS', palette=colors[1:])\n",
    "\n",
    "df_to_fit = rna_df_to_plot.sort_values(by=['Cell Line', 'Time'],ascending=True)\n",
    "popt, pcov = curve_fit(rna_on_fit, df_to_fit['Time'], df_to_fit['Expression (relative to GAPDH)'], p0=[1.67729023, 0.18804843, 0.1], method='dogbox')\n",
    "r2 = np.around(r2_score(rna_on_fit(df_to_fit['Time'], *popt), df_to_fit['Expression (relative to GAPDH)']), 2)\n",
    "print(r2)\n",
    "for i, tfbs in enumerate([1,2,3,4,5,6,7,8]):\n",
    "    # r2 = np.around(r2_score(np.asarray(single_exp(df_to_test['dox_time_hr'], *popt))*equilibrium_vals[i], df_to_test['avg_tf_bound']), 2)\n",
    "    x = np.linspace(0,48,100) \n",
    "    plt.plot(x, rna_on_test(x, tfbs, *popt), color=colors[tfbs-1],label=None)\n",
    "\n",
    "ax.set_ylabel('RNA expression (rel. to GAPDH)', fontsize = fontsize)\n",
    "plt.tick_params(axis='both', labelsize=tick_fontsize)\n",
    "ax.set_xlabel('Time (hr)', fontsize = fontsize)\n",
    "ax.set_box_aspect(0.8)\n",
    "# ax.set_xlim(0, 7)\n",
    "ax.set_xticks([0,2,8,24,48])\n",
    "ax.spines['top'].set_visible(False)\n",
    "ax.spines['right'].set_visible(False)\n",
    "plt.legend(fontsize=legend_fontsize, markerscale=0.5, frameon=False, title='TFBS', title_fontsize=legend_fontsize, bbox_to_anchor=(1,1))\n",
    "plt.savefig(output_head + 'fig5_plots/rna_timecourse_fit_avg_techreps.pdf', dpi=300)"
   ]
  },
  {
   "cell_type": "code",
   "execution_count": 13,
   "id": "b68deb54",
   "metadata": {},
   "outputs": [
    {
     "data": {
      "text/plain": [
       "array([4.28657853, 0.39466675, 0.04967378])"
      ]
     },
     "execution_count": 13,
     "metadata": {},
     "output_type": "execute_result"
    }
   ],
   "source": [
    "popt"
   ]
  },
  {
   "cell_type": "code",
   "execution_count": 14,
   "id": "2637d484",
   "metadata": {},
   "outputs": [],
   "source": [
    "rna_popt_thresh = popt"
   ]
  },
  {
   "cell_type": "code",
   "execution_count": 15,
   "id": "268cddce",
   "metadata": {},
   "outputs": [],
   "source": [
    "flow_summary_df = pd.read_csv(flow_head+'23.10.19_aggregate_flow_summary_paper_data.csv')\n",
    "# subsetting flow dataframe\n",
    "lines = ['opJS4', 'opJS5_v1','opJS5_v2']\n",
    "flow_df = flow_summary_df[flow_summary_df['line'].isin(lines)][\n",
    "                        flow_summary_df['dox'].isin([0,1000])][\n",
    "                        # flow_summary_df['time']==24][\n",
    "                        flow_summary_df['drug'].isna()]\n",
    "\n",
    "zero_time = flow_df[flow_df['dox']==0]\n",
    "nonzero_time = flow_df[flow_df['dox']==1000]\n",
    "zero_time['time']=0\n",
    "flow_df = pd.concat([zero_time, nonzero_time])\n",
    "\n",
    "# to address background silencing in background 0 8x visible in flow plots\n",
    "for index, row in flow_df[flow_df['amplicon']=='opJS4_8x_TetO_21bp_no_CG'].iterrows():\n",
    "    if np.isnan(flow_df.at[index, 'MFI_ON']):\n",
    "        continue\n",
    "    flow_df.at[index, 'MFI'] = flow_df.at[index, 'MFI_ON']\n",
    "flow_df = flow_df.groupby(['amplicon','time','TFBS'])['MFI'].mean().reset_index()   \n",
    "# rna_df_to_plot['time']=rna_df_to_plot['Time']\n",
    "# df = pd.merge(flow_df, rna_df_to_plot, on=['amplicon','time'])\n",
    "df = flow_df[flow_df['TFBS']>0][flow_df['amplicon'].isin(opJS4)]\n",
    "df = df.sort_values(by=['TFBS', 'time'],ascending=True)\n"
   ]
  },
  {
   "cell_type": "code",
   "execution_count": 16,
   "id": "dda199d3",
   "metadata": {},
   "outputs": [
    {
     "name": "stdout",
     "output_type": "stream",
     "text": [
      "0.92\n"
     ]
    },
    {
     "data": {
      "text/plain": [
       "<matplotlib.legend.Legend at 0x7f506a20bfd0>"
      ]
     },
     "execution_count": 16,
     "metadata": {},
     "output_type": "execute_result"
    },
    {
     "data": {
      "image/png": "[encoded data removed]",
      "text/plain": [
       "<Figure size 115.2x86.4 with 1 Axes>"
      ]
     },
     "metadata": {
      "needs_background": "light"
     },
     "output_type": "display_data"
    }
   ],
   "source": [
    "fig, ax = plt.subplots(figsize=(4/2.5,3/2.5))\n",
    "# fig, ax = plt.subplots(figsize=(4,3))\n",
    "\n",
    "colors = ['#f7fcfd','#e5f5f9','#ccece6','#99d8c9','#66c2a4','#41ae76','#238b45','k']\n",
    "\n",
    "def single_exp(t, t_constant, a): \n",
    "    return 1-a*np.exp(-(t*np.log(2)/t_constant))\n",
    "\n",
    "def dprotfracon_dt(vals, t, k_trl, k_deg_prot, n_tfbs):\n",
    "    prom, rna, prot = vals\n",
    "    file_path = output_head + 'avgTF_single_exponential_popt.txt'\n",
    "    popt_tf = np.loadtxt(file_path)\n",
    "    avgTF = single_exp(t, *popt_tf)*equilibrium_vals[n_tfbs]\n",
    "    k_on, k_off = popt_prom\n",
    "    dpdt = k_on*(avgTF)*(1-prom) - k_off*(prom-0.02)\n",
    "    k_trs, k_deg = rna_popt\n",
    "    drdt = k_trs*prom - k_deg*rna\n",
    "    dprotdt = k_trl*rna - k_deg_prot*(prot-500)\n",
    "    return [dpdt, drdt, dprotdt]\n",
    "\n",
    "def protein_on_fit(t, k_trl, k_deg_prot): \n",
    "    tspan = []\n",
    "    for time in np.unique(t):\n",
    "        tspan.append(time)\n",
    "    sol = []\n",
    "    for n_tfbs in [1,2,3,4, 5, 6,7,8]:\n",
    "        sol.append(list(odeint(dprotfracon_dt, [0.02,0,500], tspan, args=(k_trl, k_deg_prot, n_tfbs))[:,2]))\n",
    "    sol = np.asarray(sol).flatten()\n",
    "    return sol\n",
    "\n",
    "def protein_on_test(t, n_tfbs, k_trl, k_deg_prot): \n",
    "    sol = []\n",
    "    sol.append(list(odeint(dprotfracon_dt, [0.02,0,500], t, args=(k_trl, k_deg_prot, n_tfbs))[:,2]))\n",
    "    sol = np.asarray(sol).flatten()\n",
    "    return sol\n",
    "df['MFI_to_fit']=df['MFI']\n",
    "sns.scatterplot(data = df, x = 'time', y = 'MFI_to_fit', s = markersize, ax =ax, hue='TFBS', palette=colors)\n",
    "\n",
    "popt, pcov = curve_fit(protein_on_fit, df['time'], df['MFI_to_fit'], p0=[1.23529329e+03, 1.62691376e-01], method='dogbox')\n",
    "r2 = np.around(r2_score(protein_on_fit(df['time'], *popt), df['MFI_to_fit']), 2)\n",
    "print(r2)\n",
    "for i, tfbs in enumerate([1,2,3,4,5,6,7,8]):\n",
    "    x = np.linspace(0,48,100) \n",
    "    plt.plot(x, protein_on_test(x, tfbs, *popt), color=colors[tfbs-1],label=None)\n",
    "\n",
    "ax.set_ylabel('Expression', fontsize = fontsize)\n",
    "plt.tick_params(axis='both', labelsize=tick_fontsize)\n",
    "ax.set_xlabel('Time (hr)', fontsize = fontsize)\n",
    "ax.set_box_aspect(0.8)\n",
    "# ax.set_xlim(0, 7)\n",
    "ax.spines['top'].set_visible(False)\n",
    "ax.spines['right'].set_visible(False)\n",
    "plt.legend(fontsize=legend_fontsize, markerscale=0.5, frameon=False, title='TFBS', title_fontsize=legend_fontsize, bbox_to_anchor=(1,1))\n",
    "# plt.savefig(output_head + 'fig5_plots/rna_timecourse_fit_avg_techreps.pdf', dpi=300)"
   ]
  },
  {
   "cell_type": "code",
   "execution_count": 17,
   "id": "7570a139",
   "metadata": {},
   "outputs": [],
   "source": [
    "popt_prot = popt"
   ]
  },
  {
   "cell_type": "code",
   "execution_count": 18,
   "id": "afdc028a",
   "metadata": {},
   "outputs": [
    {
     "data": {
      "text/plain": [
       "array([1.11929165e+03, 1.60862032e-01])"
      ]
     },
     "execution_count": 18,
     "metadata": {},
     "output_type": "execute_result"
    }
   ],
   "source": [
    "popt_prot"
   ]
  },
  {
   "cell_type": "code",
   "execution_count": 19,
   "id": "5f973be1",
   "metadata": {},
   "outputs": [
    {
     "data": {
      "text/plain": [
       "<matplotlib.legend.Legend at 0x7f506a562760>"
      ]
     },
     "execution_count": 19,
     "metadata": {},
     "output_type": "execute_result"
    },
    {
     "name": "stderr",
     "output_type": "stream",
     "text": [
      "findfont: Font family ['sans-serif'] not found. Falling back to DejaVu Sans.\n",
      "findfont: Generic family 'sans-serif' not found because none of the following families were found: Arial\n"
     ]
    },
    {
     "data": {
      "image/png": "[encoded data removed]",
      "text/plain": [
       "<Figure size 115.2x86.4 with 1 Axes>"
      ]
     },
     "metadata": {
      "needs_background": "light"
     },
     "output_type": "display_data"
    }
   ],
   "source": [
    " def dprotfracon_dt(vals, t, k_trl, k_deg_prot, n_tfbs):\n",
    "    prom, rna, prot = vals\n",
    "    file_path = output_head + 'avgTF_single_exponential_popt.txt'\n",
    "    popt_tf = np.loadtxt(file_path)\n",
    "    avgTF = single_exp(t, *popt_tf)*equilibrium_vals[n_tfbs]\n",
    "    k_on, k_off = popt_prom\n",
    "    dpdt = k_on*(avgTF)*(1-prom) - k_off*(prom-0.02)\n",
    "    k_trs, k_deg, thresh = rna_popt_thresh\n",
    "    drdt = k_trs*(prom-thresh) - k_deg*rna\n",
    "    dprotdt = k_trl*rna - k_deg_prot*(prot-500)\n",
    "    return [dpdt, drdt, dprotdt]\n",
    "\n",
    "fig, ax = plt.subplots(figsize=(4/2.5,3/2.5))\n",
    "x = np.linspace(0,48,100)\n",
    "file_path = output_head + 'avgTF_single_exponential_popt.txt'\n",
    "popt_tf = np.loadtxt(file_path)\n",
    "plt.plot(x, single_exp(x, *popt_tf), color='#579AAD')\n",
    "out = odeint(dprotfracon_dt, [0.02,0,500], x, args=(popt_prot[0], popt_prot[1], 7))\n",
    "plt.plot(x, out[:,0]/out[-1,0], color='k')\n",
    "plt.plot(x, out[:,1]/out[-1,1], color='#7cad37')\n",
    "plt.plot(x, out[:,2]/out[-1,2], color='#4d6c23')\n",
    "\n",
    "df_to_fit = df_norm[df_norm['TFBS']==7][df_norm['dox_time_hr']>0]\n",
    "sns.scatterplot(data = df_to_fit, x = 'dox_time_hr', y = 'norm_avg_tf_bound', s = markersize, ax =ax, color='#579AAD')\n",
    "df_to_fit = smf_df.groupby(['TFBS','dox_time_hr'])['promoter_active'].mean().reset_index()\n",
    "df_to_fit = df_to_fit[df_to_fit['TFBS']==7][df_to_fit['dox_time_hr']>0]\n",
    "df_to_fit['norm_promoter_active']=df_to_fit['promoter_active']/df_to_fit[df_to_fit['dox_time_hr']==48]['promoter_active'].to_numpy()[0]\n",
    "sns.scatterplot(data = df_to_fit, x = 'dox_time_hr', y = 'norm_promoter_active', s = markersize, ax =ax, color='k')\n",
    "\n",
    "rna_df_to_plot = rna_df.groupby(['Time','Cell Line','amplicon'])['Expression (relative to GAPDH)'].mean().reset_index()\n",
    "rna_df_to_plot = rna_df_to_plot[rna_df_to_plot['Cell Line'].isin(['7x'])]\n",
    "rna_df_to_plot['norm_expression']=rna_df_to_plot['Expression (relative to GAPDH)']/rna_df_to_plot[rna_df_to_plot['Time']==24]['Expression (relative to GAPDH)'].to_numpy()[0]\n",
    "sns.scatterplot(data = rna_df_to_plot, x = 'Time', y = 'norm_expression', s = markersize, ax =ax, color='#7cad37')\n",
    "\n",
    "df = flow_df[flow_df['TFBS']==7][flow_df['amplicon'].isin(opJS4)]\n",
    "df = df.sort_values(by=['TFBS', 'time'],ascending=True)\n",
    "df['norm_MFI']=df['MFI']/df[df['time']==48]['MFI'].to_numpy()[0]\n",
    "sns.scatterplot(data = df, x = 'time', y = 'norm_MFI', s = markersize, ax =ax, color='#4d6c23')\n",
    "plt.legend(['TF occupancy', 'Fraction active promoter', 'RNA expression', 'Protein expression'],fontsize=legend_fontsize, markerscale=0.5, frameon=False, bbox_to_anchor=(1,1))\n",
    "# plt.savefig(output_head+'fig5_plots/all_kinetics_7x.pdf', dpi=300)\n"
   ]
  },
  {
   "cell_type": "code",
   "execution_count": 89,
   "id": "506af63e",
   "metadata": {},
   "outputs": [],
   "source": [
    " \n",
    "    \n",
    "def single_exp_norm(t, n_tfbs): \n",
    "    file_path = output_head + 'avgTF_single_exponential_popt.txt'\n",
    "    t_constant, a = np.loadtxt(file_path)\n",
    "    t = np.asarray(t)\n",
    "    return (1-a*np.exp(-(t*np.log(2)/t_constant)))*equilibrium_vals[n_tfbs]\n",
    "\n",
    "def dprotfracon_dt(vals, t, l, n_tfbs):\n",
    "    prom, rna, prot = vals\n",
    "    file_path = output_head + 'avgTF_single_exponential_popt.txt'\n",
    "    popt_tf = np.loadtxt(file_path)\n",
    "    avgTF = single_exp(t, *popt_tf)*equilibrium_vals[n_tfbs]\n",
    "    k_on, k_off = popt_prom\n",
    "    dpdt = k_on*(avgTF)*(1-prom) - k_off*(prom-0.02)\n",
    "    k_trs, k_deg, thresh = rna_popt_thresh\n",
    "    drdt = k_trs*(prom-thresh) - k_deg*rna\n",
    "    k_trl, k_deg_prot = popt_prot\n",
    "    dprotdt = k_trl*rna - k_deg_prot*(prot-500)\n",
    "    return [dpdt, drdt, dprotdt]\n",
    "\n",
    "r2s = {}\n",
    "for n_tfbs in range(9):\n",
    "    df_tf = smf_df.groupby(['TFBS','dox_time_hr'])['avg_tf_bound'].mean().reset_index()\n",
    "    df_tf = df_tf[df_tf['TFBS']==n_tfbs][df_tf['dox_time_hr']>0]\n",
    "    df_prom = smf_df.groupby(['TFBS','dox_time_hr'])['promoter_active'].mean().reset_index()\n",
    "    df_prom = df_prom[df_prom['TFBS']==n_tfbs][df_prom['dox_time_hr']>0]\n",
    "    df_rna = rna_df.groupby(['Time','Cell Line','amplicon'])['Expression (relative to GAPDH)'].mean().reset_index()\n",
    "    df_rna = df_rna[df_rna['Cell Line'].isin(['{}x'.format(str(n_tfbs))])]\n",
    "    df_prot = flow_df[flow_df['TFBS']==n_tfbs][flow_df['amplicon'].isin(opJS4)]\n",
    "    df_prot = df_prot.sort_values(by=['time'],ascending=True)\n",
    "    df_prot = df_prot.groupby(['time'])['MFI'].mean().reset_index()\n",
    "    amp = {}\n",
    "    x = list(sorted(set([round_to_significant_digits(n,2) for n in np.linspace(0,48,8640)])))\n",
    "    out = odeint(dprotfracon_dt, [0.02,0,500], x, args=(n_tfbs, n_tfbs))\n",
    "    prom = np.asarray(out[:,0])\n",
    "    rna = np.asarray(out[:,1])\n",
    "    prot = np.asarray(out[:,2])\n",
    "    \n",
    "    tf = single_exp_norm(x, n_tfbs)\n",
    "    tf_times = np.asarray([round_to_significant_digits(n,2) for n in np.asarray(df_tf['dox_time_hr'].unique())])\n",
    "    rna_times = np.asarray([round_to_significant_digits(n,2) for n in np.asarray(df_rna['Time'].unique())])\n",
    "    prot_times = np.asarray([round_to_significant_digits(n,2) for n in np.asarray(df_prot['time'].unique())])\n",
    "    \n",
    "    amp['tf'] = r2_score(df_tf['avg_tf_bound'], tf[list(np.where(np.isin(x, tf_times))[0])])\n",
    "    amp['prom'] = r2_score(df_prom['promoter_active'], prom[list(np.where(np.isin(x, tf_times))[0])])\n",
    "    amp['rna'] = r2_score(df_rna['Expression (relative to GAPDH)'], rna[list(np.where(np.isin(x, rna_times))[0])])\n",
    "    amp['prot'] = r2_score(df_prot['MFI'], prot[list(np.where(np.isin(x, prot_times))[0])])\n",
    "\n",
    "    r2s[opJS4[n_tfbs]] = amp\n",
    "    \n",
    "df = pd.DataFrame.from_dict(r2s, orient='index')\n",
    "\n",
    "    "
   ]
  },
  {
   "cell_type": "code",
   "execution_count": 90,
   "id": "42790e0b",
   "metadata": {},
   "outputs": [
    {
     "data": {
      "text/html": [
       "<div>\n",
       "<style scoped>\n",
       "    .dataframe tbody tr th:only-of-type {\n",
       "        vertical-align: middle;\n",
       "    }\n",
       "\n",
       "    .dataframe tbody tr th {\n",
       "        vertical-align: top;\n",
       "    }\n",
       "\n",
       "    .dataframe thead th {\n",
       "        text-align: right;\n",
       "    }\n",
       "</style>\n",
       "<table border=\"1\" class=\"dataframe\">\n",
       "  <thead>\n",
       "    <tr style=\"text-align: right;\">\n",
       "      <th></th>\n",
       "      <th>tf</th>\n",
       "      <th>prom</th>\n",
       "      <th>rna</th>\n",
       "      <th>prot</th>\n",
       "    </tr>\n",
       "  </thead>\n",
       "  <tbody>\n",
       "    <tr>\n",
       "      <th>opJS4_0x_TetO_21bp_no_CG</th>\n",
       "      <td>1.000000</td>\n",
       "      <td>-1.353531</td>\n",
       "      <td>-1.483790e+06</td>\n",
       "      <td>-148.410977</td>\n",
       "    </tr>\n",
       "    <tr>\n",
       "      <th>opJS4_1x_TetO_21bp_no_CG</th>\n",
       "      <td>0.897011</td>\n",
       "      <td>-0.195032</td>\n",
       "      <td>-6.475308e+04</td>\n",
       "      <td>-243.301349</td>\n",
       "    </tr>\n",
       "    <tr>\n",
       "      <th>opJS4_2x_TetO_21bp_no_CG</th>\n",
       "      <td>0.628594</td>\n",
       "      <td>0.171294</td>\n",
       "      <td>0.000000e+00</td>\n",
       "      <td>-108.030086</td>\n",
       "    </tr>\n",
       "    <tr>\n",
       "      <th>opJS4_3x_TetO_21bp_no_CG</th>\n",
       "      <td>0.829181</td>\n",
       "      <td>-0.345500</td>\n",
       "      <td>0.000000e+00</td>\n",
       "      <td>-42.936735</td>\n",
       "    </tr>\n",
       "    <tr>\n",
       "      <th>opJS4_4x_TetO_21bp_no_CG</th>\n",
       "      <td>0.824328</td>\n",
       "      <td>-1.174331</td>\n",
       "      <td>-6.117379e-01</td>\n",
       "      <td>-6.017372</td>\n",
       "    </tr>\n",
       "    <tr>\n",
       "      <th>opJS4_5x_TetO_21bp_no_CG</th>\n",
       "      <td>0.880577</td>\n",
       "      <td>0.480755</td>\n",
       "      <td>9.449338e-01</td>\n",
       "      <td>0.798806</td>\n",
       "    </tr>\n",
       "    <tr>\n",
       "      <th>opJS4_6x_TetO_21bp_no_CG</th>\n",
       "      <td>0.947482</td>\n",
       "      <td>0.743970</td>\n",
       "      <td>9.119056e-01</td>\n",
       "      <td>0.995832</td>\n",
       "    </tr>\n",
       "    <tr>\n",
       "      <th>opJS4_7x_TetO_21bp_no_CG</th>\n",
       "      <td>0.885283</td>\n",
       "      <td>0.800772</td>\n",
       "      <td>9.769597e-01</td>\n",
       "      <td>0.995520</td>\n",
       "    </tr>\n",
       "    <tr>\n",
       "      <th>opJS4_8x_TetO_21bp_no_CG</th>\n",
       "      <td>0.963798</td>\n",
       "      <td>0.942699</td>\n",
       "      <td>9.975817e-01</td>\n",
       "      <td>0.987942</td>\n",
       "    </tr>\n",
       "  </tbody>\n",
       "</table>\n",
       "</div>"
      ],
      "text/plain": [
       "                                tf      prom           rna        prot\n",
       "opJS4_0x_TetO_21bp_no_CG  1.000000 -1.353531 -1.483790e+06 -148.410977\n",
       "opJS4_1x_TetO_21bp_no_CG  0.897011 -0.195032 -6.475308e+04 -243.301349\n",
       "opJS4_2x_TetO_21bp_no_CG  0.628594  0.171294  0.000000e+00 -108.030086\n",
       "opJS4_3x_TetO_21bp_no_CG  0.829181 -0.345500  0.000000e+00  -42.936735\n",
       "opJS4_4x_TetO_21bp_no_CG  0.824328 -1.174331 -6.117379e-01   -6.017372\n",
       "opJS4_5x_TetO_21bp_no_CG  0.880577  0.480755  9.449338e-01    0.798806\n",
       "opJS4_6x_TetO_21bp_no_CG  0.947482  0.743970  9.119056e-01    0.995832\n",
       "opJS4_7x_TetO_21bp_no_CG  0.885283  0.800772  9.769597e-01    0.995520\n",
       "opJS4_8x_TetO_21bp_no_CG  0.963798  0.942699  9.975817e-01    0.987942"
      ]
     },
     "execution_count": 90,
     "metadata": {},
     "output_type": "execute_result"
    }
   ],
   "source": [
    "df"
   ]
  },
  {
   "cell_type": "code",
   "execution_count": 113,
   "id": "60fbccb8",
   "metadata": {},
   "outputs": [],
   "source": [
    "tf_real=[]\n",
    "tf_pred=[]\n",
    "prom_real=[]\n",
    "prom_pred=[]\n",
    "rna_real=[]\n",
    "rna_pred=[]\n",
    "prot_real=[]\n",
    "prot_pred=[]\n",
    "\n",
    "for n_tfbs in range(9):\n",
    "    df_tf = smf_df.groupby(['TFBS','dox_time_hr'])['avg_tf_bound'].mean().reset_index()\n",
    "    df_tf = df_tf[df_tf['TFBS']==n_tfbs][df_tf['dox_time_hr']>0]\n",
    "    df_prom = smf_df.groupby(['TFBS','dox_time_hr'])['promoter_active'].mean().reset_index()\n",
    "    df_prom = df_prom[df_prom['TFBS']==n_tfbs][df_prom['dox_time_hr']>0]\n",
    "    df_rna = rna_df.groupby(['Time','Cell Line','amplicon'])['Expression (relative to GAPDH)'].mean().reset_index()\n",
    "    df_rna = df_rna[df_rna['Cell Line'].isin(['{}x'.format(str(n_tfbs))])]\n",
    "    df_prot = flow_df[flow_df['TFBS']==n_tfbs][flow_df['amplicon'].isin(opJS4)]\n",
    "    df_prot = df_prot.sort_values(by=['time'],ascending=True)\n",
    "    df_prot = df_prot.groupby(['time'])['MFI'].mean().reset_index()\n",
    "\n",
    "    tf_times = np.asarray([round_to_significant_digits(n,2) for n in np.asarray(df_tf['dox_time_hr'].unique())])\n",
    "    rna_times = np.asarray([round_to_significant_digits(n,2) for n in np.asarray(df_rna['Time'].unique())])\n",
    "    prot_times = np.asarray([round_to_significant_digits(n,2) for n in np.asarray(df_prot['time'].unique())])  \n",
    "\n",
    "    x = list(sorted(set([round_to_significant_digits(n,2) for n in np.linspace(0,48,8640)])))\n",
    "    out = odeint(dprotfracon_dt, [0.02,0,500], x, args=(n_tfbs, n_tfbs))\n",
    "    prom = np.asarray(out[:,0])\n",
    "    rna = np.asarray(out[:,1])\n",
    "    prot = np.asarray(out[:,2])\n",
    "    tf = single_exp_norm(x, n_tfbs)\n",
    "    tf_real.append(df_tf['avg_tf_bound'])\n",
    "    tf_pred.append(tf[list(np.where(np.isin(x, tf_times))[0])])\n",
    "    prom_real.append(df_prom['promoter_active'])\n",
    "    prom_pred.append(prom[list(np.where(np.isin(x, tf_times))[0])])\n",
    "    rna_real.append(df_rna['Expression (relative to GAPDH)'])\n",
    "    rna_pred.append(rna[list(np.where(np.isin(x, rna_times))[0])])\n",
    "    prot_real.append(df_prot['MFI'])\n",
    "    prot_pred.append(prot[list(np.where(np.isin(x, prot_times))[0])])\n",
    "\n",
    "def flatten(l):\n",
    "    return [item for sublist in l for item in sublist]\n",
    "\n",
    "\n",
    "# tf_real=flatten(tf_real)\n",
    "# tf_pred=flatten(tf_pred)\n",
    "# prom_real=flatten(prom_real)\n",
    "# prom_pred=flatten(prom_pred)\n",
    "# rna_real=flatten(rna_real)\n",
    "# rna_pred=flatten(rna_pred)\n",
    "# prot_real=flatten(prot_real)\n",
    "# prot_pred=flatten(prot_pred)\n",
    "\n",
    "# r2s = {}\n",
    "# r2s['tf'] = {'r2':r2_score(tf_real,tf_pred)}\n",
    "# r2s['prom'] = {'r2':r2_score(prom_real,prom_pred)}\n",
    "# r2s['rna'] = {'r2':r2_score(rna_real, rna_pred)}\n",
    "# r2s['prot'] = {'r2':r2_score(prot_real, prot_pred)}\n",
    "    \n",
    "# df = pd.DataFrame.from_dict(r2s)\n"
   ]
  },
  {
   "cell_type": "code",
   "execution_count": 122,
   "id": "bd27d62a",
   "metadata": {},
   "outputs": [],
   "source": [
    "from matplotlib.colors import LinearSegmentedColormap\n",
    "\n",
    "\n"
   ]
  },
  {
   "cell_type": "code",
   "execution_count": 160,
   "id": "4bfa1b21",
   "metadata": {},
   "outputs": [
    {
     "data": {
      "image/png": "[encoded data removed]",
      "text/plain": [
       "<Figure size 57.6x43.2 with 2 Axes>"
      ]
     },
     "metadata": {
      "needs_background": "light"
     },
     "output_type": "display_data"
    },
    {
     "data": {
      "image/png": "[encoded data removed]",
      "text/plain": [
       "<Figure size 57.6x43.2 with 2 Axes>"
      ]
     },
     "metadata": {
      "needs_background": "light"
     },
     "output_type": "display_data"
    }
   ],
   "source": [
    "cmap_colors = ['#ddebef','#579AAD','#223e46']  # Red to White to Blue\n",
    "custom_cmap_tf = LinearSegmentedColormap.from_list(\"custom_colormap\", cmap_colors, N=256)\n",
    "fig, ax = plt.subplots(figsize=(4/2.5/2,3/2.5/2))\n",
    "plt.title('Data', fontsize=7)\n",
    "sns.heatmap(tf_real, xticklabels=[], cmap=custom_cmap_tf,linewidths=.5,vmin=0, vmax=3, linecolor='None')\n",
    "plt.tick_params(axis='both', labelsize=tick_fontsize)\n",
    "plt.savefig(output_head+'fig5_plots/tf_data_heatmap.pdf', dpi=300)\n",
    "\n",
    "fig, ax = plt.subplots(figsize=(4/2.5/2,3/2.5/2))\n",
    "sns.heatmap(tf_pred, xticklabels=[], cmap=custom_cmap_tf,linewidths=.5,vmin=0, vmax=3, linecolor='None')\n",
    "plt.tick_params(axis='both', labelsize=tick_fontsize)\n",
    "plt.title('Model', fontsize=7)\n",
    "plt.savefig(output_head+'fig5_plots/tf_model_heatmap.pdf', dpi=300)\n"
   ]
  },
  {
   "cell_type": "code",
   "execution_count": 161,
   "id": "61eaeb14",
   "metadata": {},
   "outputs": [
    {
     "data": {
      "image/png": "[encoded data removed]",
      "text/plain": [
       "<Figure size 57.6x43.2 with 2 Axes>"
      ]
     },
     "metadata": {
      "needs_background": "light"
     },
     "output_type": "display_data"
    },
    {
     "data": {
      "image/png": "[encoded data removed]",
      "text/plain": [
       "<Figure size 57.6x43.2 with 2 Axes>"
      ]
     },
     "metadata": {
      "needs_background": "light"
     },
     "output_type": "display_data"
    }
   ],
   "source": [
    "cmap_colors = ['#eaeaea','#969696','k']  # Red to White to Blue\n",
    "custom_cmap_prom = LinearSegmentedColormap.from_list(\"custom_colormap\", cmap_colors, N=256)\n",
    "fig, ax = plt.subplots(figsize=(4/2.5/2,3/2.5/2))\n",
    "plt.title('Data', fontsize=7)\n",
    "sns.heatmap(prom_real,yticklabels=[],  xticklabels=[], cmap=custom_cmap_prom,linewidths=.5,vmin=0, vmax=0.38, linecolor='None')\n",
    "plt.tick_params(axis='both', labelsize=tick_fontsize)\n",
    "plt.savefig(output_head+'fig5_plots/prom_data_heatmap.pdf', dpi=300)\n",
    "\n",
    "fig, ax = plt.subplots(figsize=(4/2.5/2,3/2.5/2))\n",
    "sns.heatmap(prom_pred, yticklabels=[], xticklabels=[], cmap=custom_cmap_prom,linewidths=.5,vmin=0, vmax=0.38, linecolor='None')\n",
    "plt.tick_params(axis='both', labelsize=tick_fontsize)\n",
    "plt.title('Model', fontsize=7)\n",
    "plt.savefig(output_head+'fig5_plots/prom_model_heatmap.pdf', dpi=300)"
   ]
  },
  {
   "cell_type": "code",
   "execution_count": 162,
   "id": "3698da0e",
   "metadata": {},
   "outputs": [
    {
     "data": {
      "image/png": "[encoded data removed]",
      "text/plain": [
       "<Figure size 57.6x43.2 with 2 Axes>"
      ]
     },
     "metadata": {
      "needs_background": "light"
     },
     "output_type": "display_data"
    },
    {
     "data": {
      "image/png": "[encoded data removed]",
      "text/plain": [
       "<Figure size 57.6x43.2 with 2 Axes>"
      ]
     },
     "metadata": {
      "needs_background": "light"
     },
     "output_type": "display_data"
    }
   ],
   "source": [
    "cmap_colors = ['#e6efda','#7B9E45','#313f1c']  # Red to White to Blue\n",
    "custom_cmap_prom = LinearSegmentedColormap.from_list(\"custom_colormap\", cmap_colors, N=256)\n",
    "fig, ax = plt.subplots(figsize=(4/2.5/2,3/2.5/2))\n",
    "plt.title('Data', fontsize=7)\n",
    "sns.heatmap(rna_real, yticklabels=[], xticklabels=[], cmap=custom_cmap_prom,linewidths=.5,vmin=0, vmax=3, linewidth=0, linecolor='None')\n",
    "plt.tick_params(axis='both', labelsize=tick_fontsize)\n",
    "plt.savefig(output_head+'fig5_plots/rna_data_heatmap.pdf', dpi=300)\n",
    "\n",
    "fig, ax = plt.subplots(figsize=(4/2.5/2,3/2.5/2))\n",
    "sns.heatmap(rna_pred, yticklabels=[], xticklabels=[], cmap=custom_cmap_prom,linewidths=.5,vmin=0, vmax=3, linewidth=0, linecolor='None')\n",
    "plt.tick_params(axis='both', labelsize=tick_fontsize)\n",
    "plt.title('Model', fontsize=7)\n",
    "plt.savefig(output_head+'fig5_plots/rna_model_heatmap.pdf', dpi=300)"
   ]
  },
  {
   "cell_type": "code",
   "execution_count": 163,
   "id": "fd623fdf",
   "metadata": {},
   "outputs": [
    {
     "data": {
      "image/png": "[encoded data removed]",
      "text/plain": [
       "<Figure size 57.6x43.2 with 2 Axes>"
      ]
     },
     "metadata": {
      "needs_background": "light"
     },
     "output_type": "display_data"
    },
    {
     "data": {
      "image/png": "[encoded data removed]",
      "text/plain": [
       "<Figure size 57.6x43.2 with 2 Axes>"
      ]
     },
     "metadata": {
      "needs_background": "light"
     },
     "output_type": "display_data"
    }
   ],
   "source": [
    "cmap_colors = ['#fff9d2','#FEDE10','#6c5d00']  # Red to White to Blue\n",
    "custom_cmap_prot = LinearSegmentedColormap.from_list(\"custom_colormap\", cmap_colors, N=256)\n",
    "fig, ax = plt.subplots(figsize=(4/2.5/2,3/2.5/2))\n",
    "plt.title('Data', fontsize=7)\n",
    "sns.heatmap(prot_real, yticklabels=[], xticklabels=[], cmap=custom_cmap_prot,linewidths=.5,vmin=0, linewidth=0, linecolor='None')\n",
    "plt.tick_params(axis='both', labelsize=tick_fontsize)\n",
    "plt.savefig(output_head+'fig5_plots/prot_data_heatmap.pdf', dpi=300)\n",
    "\n",
    "fig, ax = plt.subplots(figsize=(4/2.5/2,3/2.5/2))\n",
    "sns.heatmap(prot_pred, yticklabels=[], xticklabels=[], cmap=custom_cmap_prot,linewidths=.5,vmin=0, linewidth=0, linecolor='None')\n",
    "plt.tick_params(axis='both', labelsize=tick_fontsize)\n",
    "plt.title('Model', fontsize=7)\n",
    "plt.savefig(output_head+'fig5_plots/prot_model_heatmap.pdf', dpi=300)"
   ]
  },
  {
   "cell_type": "code",
   "execution_count": 104,
   "id": "58db79b2",
   "metadata": {},
   "outputs": [
    {
     "data": {
      "image/png": "[encoded data removed]",
      "text/plain": [
       "<Figure size 115.2x86.4 with 1 Axes>"
      ]
     },
     "metadata": {
      "needs_background": "light"
     },
     "output_type": "display_data"
    }
   ],
   "source": [
    "fig, ax = plt.subplots(figsize=(4/2.5,3/2.5))\n",
    "plt.tick_params(axis='both', labelsize=tick_fontsize)\n",
    "# ax.set_xticks([])\n",
    "ax.set_ylabel('model r2 across 0-8x TetO', fontsize = fontsize)\n",
    "ax.set_box_aspect(0.8)\n",
    "ax.spines['top'].set_visible(False)\n",
    "ax.spines['right'].set_visible(False)\n",
    "ax.set_facecolor('none')\n",
    "sns.barplot(data=df, palette=['#579AAD','k','#7cad37','#4d6c23'])\n",
    "plt.savefig(output_head+'fig5_plots/goodness_of_fit.pdf', dpi=300)"
   ]
  },
  {
   "cell_type": "code",
   "execution_count": null,
   "id": "dd40d4a5",
   "metadata": {},
   "outputs": [],
   "source": [
    "sns.heatmap(data, cmap='viridis', annot=True, fmt=\".2f\", linewidths=.5)\n"
   ]
  },
  {
   "cell_type": "code",
   "execution_count": 106,
   "id": "a97433fc",
   "metadata": {},
   "outputs": [
    {
     "data": {
      "text/plain": [
       "array([0.01757174, 0.12631662])"
      ]
     },
     "execution_count": 106,
     "metadata": {},
     "output_type": "execute_result"
    }
   ],
   "source": [
    "popt_prom"
   ]
  },
  {
   "cell_type": "code",
   "execution_count": 108,
   "id": "34eaeeab",
   "metadata": {},
   "outputs": [
    {
     "data": {
      "text/plain": [
       "array([2.00433094, 0.22460502])"
      ]
     },
     "execution_count": 108,
     "metadata": {},
     "output_type": "execute_result"
    }
   ],
   "source": [
    "rna_popt"
   ]
  },
  {
   "cell_type": "code",
   "execution_count": 109,
   "id": "ddd47039",
   "metadata": {},
   "outputs": [
    {
     "data": {
      "text/plain": [
       "array([1.11929165e+03, 1.60862032e-01])"
      ]
     },
     "execution_count": 109,
     "metadata": {},
     "output_type": "execute_result"
    }
   ],
   "source": [
    "popt_prot"
   ]
  },
  {
   "cell_type": "code",
   "execution_count": null,
   "id": "4619ccfe",
   "metadata": {},
   "outputs": [],
   "source": []
  }
 ],
 "metadata": {
  "kernelspec": {
   "display_name": "Python 3 (ipykernel)",
   "language": "python",
   "name": "python3"
  },
  "language_info": {
   "codemirror_mode": {
    "name": "ipython",
    "version": 3
   },
   "file_extension": ".py",
   "mimetype": "text/x-python",
   "name": "python",
   "nbconvert_exporter": "python",
   "pygments_lexer": "ipython3",
   "version": "3.8.3"
  }
 },
 "nbformat": 4,
 "nbformat_minor": 5
}
